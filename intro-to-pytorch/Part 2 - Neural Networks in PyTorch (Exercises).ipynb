{
 "cells": [
  {
   "cell_type": "markdown",
   "metadata": {},
   "source": [
    "# Neural networks with PyTorch\n",
    "\n",
    "Deep learning networks tend to be massive with dozens or hundreds of layers, that's where the term \"deep\" comes from. You can build one of these deep networks using only weight matrices as we did in the previous notebook, but in general it's very cumbersome and difficult to implement. PyTorch has a nice module `nn` that provides a nice way to efficiently build large neural networks."
   ]
  },
  {
   "cell_type": "code",
   "execution_count": 71,
   "metadata": {},
   "outputs": [],
   "source": [
    "# Import necessary packages\n",
    "\n",
    "%matplotlib inline\n",
    "%config InlineBackend.figure_format = 'retina'\n",
    "\n",
    "import numpy as np\n",
    "import torch\n",
    "\n",
    "import helper\n",
    "\n",
    "import matplotlib.pyplot as plt\n",
    "from math import e"
   ]
  },
  {
   "cell_type": "markdown",
   "metadata": {},
   "source": [
    "\n",
    "Now we're going to build a larger network that can solve a (formerly) difficult problem, identifying text in an image. Here we'll use the MNIST dataset which consists of greyscale handwritten digits. Each image is 28x28 pixels, you can see a sample below\n",
    "\n",
    "<img src='assets/mnist.png'>\n",
    "\n",
    "Our goal is to build a neural network that can take one of these images and predict the digit in the image.\n",
    "\n",
    "First up, we need to get our dataset. This is provided through the `torchvision` package. The code below will download the MNIST dataset, then create training and test datasets for us. Don't worry too much about the details here, you'll learn more about this later."
   ]
  },
  {
   "cell_type": "code",
   "execution_count": 3,
   "metadata": {},
   "outputs": [
    {
     "name": "stdout",
     "output_type": "stream",
     "text": [
      "Downloading http://yann.lecun.com/exdb/mnist/train-images-idx3-ubyte.gz to /home/adambhav2623/.pytorch/MNIST_data/MNIST/raw/train-images-idx3-ubyte.gz\n"
     ]
    },
    {
     "data": {
      "application/vnd.jupyter.widget-view+json": {
       "model_id": "d0dc79b948ba44729152ccab7d15ef3a",
       "version_major": 2,
       "version_minor": 0
      },
      "text/plain": [
       "HBox(children=(FloatProgress(value=1.0, bar_style='info', max=1.0), HTML(value='')))"
      ]
     },
     "metadata": {},
     "output_type": "display_data"
    },
    {
     "name": "stdout",
     "output_type": "stream",
     "text": [
      "Extracting /home/adambhav2623/.pytorch/MNIST_data/MNIST/raw/train-images-idx3-ubyte.gz to /home/adambhav2623/.pytorch/MNIST_data/MNIST/raw\n",
      "Downloading http://yann.lecun.com/exdb/mnist/train-labels-idx1-ubyte.gz to /home/adambhav2623/.pytorch/MNIST_data/MNIST/raw/train-labels-idx1-ubyte.gz\n"
     ]
    },
    {
     "data": {
      "application/vnd.jupyter.widget-view+json": {
       "model_id": "2d8ee12dd1cd42a7be62c13ec67b429f",
       "version_major": 2,
       "version_minor": 0
      },
      "text/plain": [
       "HBox(children=(FloatProgress(value=1.0, bar_style='info', max=1.0), HTML(value='')))"
      ]
     },
     "metadata": {},
     "output_type": "display_data"
    },
    {
     "name": "stdout",
     "output_type": "stream",
     "text": [
      "Extracting /home/adambhav2623/.pytorch/MNIST_data/MNIST/raw/train-labels-idx1-ubyte.gz to /home/adambhav2623/.pytorch/MNIST_data/MNIST/raw\n",
      "Downloading http://yann.lecun.com/exdb/mnist/t10k-images-idx3-ubyte.gz to /home/adambhav2623/.pytorch/MNIST_data/MNIST/raw/t10k-images-idx3-ubyte.gz\n"
     ]
    },
    {
     "data": {
      "application/vnd.jupyter.widget-view+json": {
       "model_id": "71849c79d1ed4a248e646e1b170235c9",
       "version_major": 2,
       "version_minor": 0
      },
      "text/plain": [
       "HBox(children=(FloatProgress(value=1.0, bar_style='info', max=1.0), HTML(value='')))"
      ]
     },
     "metadata": {},
     "output_type": "display_data"
    },
    {
     "name": "stdout",
     "output_type": "stream",
     "text": [
      "Extracting /home/adambhav2623/.pytorch/MNIST_data/MNIST/raw/t10k-images-idx3-ubyte.gz to /home/adambhav2623/.pytorch/MNIST_data/MNIST/raw\n",
      "Downloading http://yann.lecun.com/exdb/mnist/t10k-labels-idx1-ubyte.gz to /home/adambhav2623/.pytorch/MNIST_data/MNIST/raw/t10k-labels-idx1-ubyte.gz\n"
     ]
    },
    {
     "data": {
      "application/vnd.jupyter.widget-view+json": {
       "model_id": "87dd42b039b8402d986c957be66b9f2a",
       "version_major": 2,
       "version_minor": 0
      },
      "text/plain": [
       "HBox(children=(FloatProgress(value=1.0, bar_style='info', max=1.0), HTML(value='')))"
      ]
     },
     "metadata": {},
     "output_type": "display_data"
    },
    {
     "name": "stdout",
     "output_type": "stream",
     "text": [
      "Extracting /home/adambhav2623/.pytorch/MNIST_data/MNIST/raw/t10k-labels-idx1-ubyte.gz to /home/adambhav2623/.pytorch/MNIST_data/MNIST/raw\n",
      "Processing...\n",
      "Done!\n"
     ]
    },
    {
     "name": "stderr",
     "output_type": "stream",
     "text": [
      "/opt/conda/conda-bld/pytorch_1591914794252/work/torch/csrc/utils/tensor_numpy.cpp:141: UserWarning: The given NumPy array is not writeable, and PyTorch does not support non-writeable tensors. This means you can write to the underlying (supposedly non-writeable) NumPy array using the tensor. You may want to copy the array to protect its data or make it writeable before converting it to a tensor. This type of warning will be suppressed for the rest of this program.\n"
     ]
    }
   ],
   "source": [
    "### Run this cell\n",
    "\n",
    "from torchvision import datasets, transforms\n",
    "\n",
    "# Define a transform to normalize the data\n",
    "transform = transforms.Compose([transforms.ToTensor(),\n",
    "                              transforms.Normalize((0.5,), (0.5,)),\n",
    "                              ])\n",
    "\n",
    "# Download and load the training data\n",
    "trainset = datasets.MNIST('~/.pytorch/MNIST_data/', download=True, train=True, transform=transform)\n",
    "trainloader = torch.utils.data.DataLoader(trainset, batch_size=64, shuffle=True)"
   ]
  },
  {
   "cell_type": "markdown",
   "metadata": {},
   "source": [
    "We have the training data loaded into `trainloader` and we make that an iterator with `iter(trainloader)`. Later, we'll use this to loop through the dataset for training, like\n",
    "\n",
    "```python\n",
    "for image, label in trainloader:\n",
    "    ## do things with images and labels\n",
    "```\n",
    "\n",
    "You'll notice I created the `trainloader` with a batch size of 64, and `shuffle=True`. The batch size is the number of images we get in one iteration from the data loader and pass through our network, often called a *batch*. And `shuffle=True` tells it to shuffle the dataset every time we start going through the data loader again. But here I'm just grabbing the first batch so we can check out the data. We can see below that `images` is just a tensor with size `(64, 1, 28, 28)`. So, 64 images per batch, 1 color channel, and 28x28 images."
   ]
  },
  {
   "cell_type": "code",
   "execution_count": 217,
   "metadata": {},
   "outputs": [
    {
     "name": "stdout",
     "output_type": "stream",
     "text": [
      "<class 'torch.Tensor'>\n",
      "torch.Size([64, 1, 28, 28])\n",
      "torch.Size([64])\n"
     ]
    }
   ],
   "source": [
    "dataiter = iter(trainloader)\n",
    "images, labels = dataiter.next()\n",
    "print(type(images))\n",
    "print(images.shape)\n",
    "print(labels.shape)"
   ]
  },
  {
   "cell_type": "markdown",
   "metadata": {},
   "source": [
    "This is what one of the images looks like. "
   ]
  },
  {
   "cell_type": "code",
   "execution_count": 218,
   "metadata": {},
   "outputs": [
    {
     "data": {
      "image/png": "[encoded data removed]",
      "text/plain": [
       "<Figure size 432x288 with 1 Axes>"
      ]
     },
     "metadata": {
      "image/png": {
       "height": 248,
       "width": 251
      },
      "needs_background": "light"
     },
     "output_type": "display_data"
    }
   ],
   "source": [
    "plt.imshow(images[0].numpy().squeeze(), cmap='Greys_r');"
   ]
  },
  {
   "cell_type": "markdown",
   "metadata": {},
   "source": [
    "First, let's try to build a simple network for this dataset using weight matrices and matrix multiplications. Then, we'll see how to do it using PyTorch's `nn` module which provides a much more convenient and powerful method for defining network architectures.\n",
    "\n",
    "The networks you've seen so far are called *fully-connected* or *dense* networks. Each unit in one layer is connected to each unit in the next layer. In fully-connected networks, the input to each layer must be a one-dimensional vector (which can be stacked into a 2D tensor as a batch of multiple examples). However, our images are 28x28 2D tensors, so we need to convert them into 1D vectors. Thinking about sizes, we need to convert the batch of images with shape `(64, 1, 28, 28)` to a have a shape of `(64, 784)`, 784 is 28 times 28. This is typically called *flattening*, we flattened the 2D images into 1D vectors.\n",
    "\n",
    "Previously you built a network with one output unit. Here we need 10 output units, one for each digit. We want our network to predict the digit shown in an image, so what we'll do is calculate probabilities that the image is of any one digit or class. This ends up being a discrete probability distribution over the classes (digits) that tells us the most likely class for the image. That means we need 10 output units for the 10 classes (digits). We'll see how to convert the network output into a probability distribution next.\n",
    "\n",
    "> **Exercise:** Flatten the batch of images `images`. Then build a multi-layer network with 784 input units, 256 hidden units, and 10 output units using random tensors for the weights and biases. For now, use a sigmoid activation for the hidden layer. Leave the output layer without an activation, we'll add one that gives us a probability distribution next."
   ]
  },
  {
   "cell_type": "code",
   "execution_count": 87,
   "metadata": {},
   "outputs": [
    {
     "name": "stdout",
     "output_type": "stream",
     "text": [
      "torch.Size([6, 4])\n",
      "tensor([[ 0.0191, -1.1645, -0.0994,  0.2053],\n",
      "        [ 0.5104,  0.9343,  2.7530,  0.8304],\n",
      "        [ 0.9954, -0.6814,  1.6840,  0.2694],\n",
      "        [-0.3421, -0.9606,  2.1943, -1.6203],\n",
      "        [ 1.2153,  0.0435,  0.1597,  0.9136],\n",
      "        [-0.1165,  0.2235, -0.6769, -0.7642]])\n",
      "torch.Size([6, 4])\n",
      "tensor([[-0.7476,  2.5345,  0.7615,  1.0451],\n",
      "        [-0.0112,  0.4984, -0.2696,  0.4948],\n",
      "        [ 0.3819, -0.6972,  0.0177, -0.5677],\n",
      "        [-2.1238, -0.5777,  1.0439, -2.7941],\n",
      "        [-2.2098,  0.1126, -1.9094,  0.1142],\n",
      "        [ 1.1336, -0.7071,  0.8700, -2.1905]])\n"
     ]
    }
   ],
   "source": [
    "tester = torch.randn(6,4)\n",
    "print(tester.shape)\n",
    "print(tester)\n",
    "tester_2 = torch.randn((6,4))\n",
    "print(tester_2.shape)\n",
    "print(tester_2)"
   ]
  },
  {
   "cell_type": "code",
   "execution_count": 96,
   "metadata": {},
   "outputs": [],
   "source": [
    "def activation(x):\n",
    "    return (1/(1 + (e ** (-1.0 * x))))\n",
    "torch.manual_seed(7)\n",
    "images_reshaped = torch.reshape(images, (64, 784))\n",
    "\n",
    "weights_1 = torch.randn(784, 256)\n",
    "bias = torch.randn(256)\n",
    "hidden_layer = torch.matmul(images_reshaped, weights_1) + bias\n",
    "hidden_output = activation(hidden_layer)\n",
    "weights_2 = torch.randn((256, 10))\n",
    "bias_2 = torch.randn(10)\n",
    "output_layer = torch.matmul(hidden_output, weights_2) + bias_2\n",
    "out = activation(output_layer)"
   ]
  },
  {
   "cell_type": "markdown",
   "metadata": {},
   "source": [
    "Now we have 10 outputs for our network. We want to pass in an image to our network and get out a probability distribution over the classes that tells us the likely class(es) the image belongs to. Something that looks like this:\n",
    "<img src='assets/image_distribution.png' width=500px>\n",
    "\n",
    "Here we see that the probability for each class is roughly the same. This is representing an untrained network, it hasn't seen any data yet so it just returns a uniform distribution with equal probabilities for each class.\n",
    "\n",
    "To calculate this probability distribution, we often use the [**softmax** function](https://en.wikipedia.org/wiki/Softmax_function). Mathematically this looks like\n",
    "\n",
    "$$\n",
    "\\Large \\sigma(x_i) = \\cfrac{e^{x_i}}{\\sum_k^K{e^{x_k}}}\n",
    "$$\n",
    "\n",
    "What this does is squish each input $x_i$ between 0 and 1 and normalizes the values to give you a proper probability distribution where the probabilites sum up to one.\n",
    "\n",
    "> **Exercise:** Implement a function `softmax` that performs the softmax calculation and returns probability distributions for each example in the batch. Note that you'll need to pay attention to the shapes when doing this. If you have a tensor `a` with shape `(64, 10)` and a tensor `b` with shape `(64,)`, doing `a/b` will give you an error because PyTorch will try to do the division across the columns (called broadcasting) but you'll get a size mismatch. The way to think about this is for each of the 64 examples, you only want to divide by one value, the sum in the denominator. So you need `b` to have a shape of `(64, 1)`. This way PyTorch will divide the 10 values in each row of `a` by the one value in each row of `b`. Pay attention to how you take the sum as well. You'll need to define the `dim` keyword in `torch.sum`. Setting `dim=0` takes the sum across the rows while `dim=1` takes the sum across the columns."
   ]
  },
  {
   "cell_type": "code",
   "execution_count": 161,
   "metadata": {},
   "outputs": [
    {
     "data": {
      "text/plain": [
       "tensor([[6.3792e-06, 1.6025e-06, 2.5781e-02, 1.3067e-01, 2.6678e-06, 2.8636e-01,\n",
       "         2.6156e-04, 2.2159e-01, 2.8171e-01, 5.3622e-02],\n",
       "        [1.2766e-01, 8.3764e-07, 2.4708e-01, 2.7912e-03, 5.0134e-04, 3.9584e-01,\n",
       "         9.8344e-03, 2.4795e-03, 2.1263e-01, 1.1727e-03],\n",
       "        [1.1409e-03, 8.0258e-04, 4.1569e-01, 1.2551e-03, 3.0228e-02, 4.4240e-01,\n",
       "         9.2796e-02, 1.2579e-02, 2.9318e-03, 1.8435e-04],\n",
       "        [1.1027e-02, 2.3672e-02, 2.6070e-01, 3.1943e-07, 8.5989e-02, 1.3972e-01,\n",
       "         9.2167e-03, 1.6714e-02, 2.6461e-01, 1.8835e-01],\n",
       "        [3.0616e-01, 3.6998e-08, 3.0646e-01, 1.5118e-02, 2.6907e-03, 3.0744e-01,\n",
       "         2.1801e-06, 5.9767e-04, 5.8109e-02, 3.4298e-03],\n",
       "        [1.7238e-01, 1.6952e-03, 1.9944e-01, 3.0424e-02, 9.2686e-02, 2.1929e-01,\n",
       "         7.6924e-02, 1.3675e-04, 2.0703e-01, 2.2434e-07],\n",
       "        [2.5339e-01, 1.1195e-04, 2.4654e-01, 3.3769e-04, 1.0545e-03, 2.5345e-01,\n",
       "         4.7121e-02, 1.0418e-02, 1.7002e-01, 1.7556e-02],\n",
       "        [7.5508e-04, 1.7810e-04, 4.4096e-01, 1.2923e-04, 1.1080e-04, 4.8303e-01,\n",
       "         7.4624e-02, 1.3619e-05, 2.0264e-04, 6.5131e-10],\n",
       "        [2.3210e-01, 8.1708e-06, 2.3417e-01, 3.9715e-02, 6.5711e-03, 2.4362e-01,\n",
       "         6.2323e-07, 4.5765e-05, 2.4376e-01, 7.8442e-06],\n",
       "        [1.8341e-01, 2.0177e-05, 9.8998e-02, 1.6470e-01, 2.3152e-03, 2.0568e-01,\n",
       "         2.0288e-01, 1.4189e-01, 2.3730e-05, 8.2833e-05],\n",
       "        [6.1571e-07, 9.4732e-03, 1.2799e-01, 9.1525e-02, 1.4235e-06, 2.4679e-01,\n",
       "         8.2080e-04, 2.6120e-01, 2.6220e-01, 9.8132e-08],\n",
       "        [1.3560e-01, 5.3067e-04, 2.0037e-01, 1.8972e-01, 3.1430e-04, 2.3410e-01,\n",
       "         2.3594e-04, 4.2818e-03, 2.3405e-01, 7.9475e-04],\n",
       "        [1.8477e-01, 1.4018e-01, 2.1146e-01, 1.3007e-02, 4.5368e-03, 2.1146e-01,\n",
       "         1.5938e-01, 4.2259e-03, 7.0972e-02, 7.4387e-07],\n",
       "        [3.4341e-02, 1.6194e-06, 3.7741e-03, 2.3583e-01, 1.4499e-02, 3.8491e-01,\n",
       "         3.4310e-05, 3.7101e-07, 1.6038e-01, 1.6624e-01],\n",
       "        [2.3180e-01, 1.2144e-03, 2.3860e-01, 4.0998e-02, 5.8245e-05, 2.3482e-01,\n",
       "         1.5475e-02, 9.8636e-05, 2.3694e-01, 7.5243e-08],\n",
       "        [3.2127e-01, 9.4903e-06, 4.0202e-01, 8.7647e-06, 1.8805e-01, 1.1242e-02,\n",
       "         1.1470e-03, 5.5055e-05, 7.6111e-02, 9.0832e-05],\n",
       "        [2.6363e-02, 1.1330e-06, 3.0650e-01, 1.2148e-04, 5.5809e-02, 3.2013e-01,\n",
       "         2.2208e-03, 9.8823e-03, 2.7897e-01, 1.8632e-07],\n",
       "        [4.8922e-04, 2.0735e-07, 2.4602e-01, 1.5199e-03, 3.2210e-01, 4.0272e-01,\n",
       "         1.9105e-04, 2.6617e-02, 3.4653e-04, 6.5988e-07],\n",
       "        [4.4528e-01, 4.6845e-04, 1.0418e-03, 2.3309e-04, 9.5465e-03, 4.7822e-01,\n",
       "         8.1735e-04, 3.2781e-03, 5.7297e-02, 3.8175e-03],\n",
       "        [4.1276e-01, 3.7467e-09, 9.6378e-02, 5.0086e-03, 5.9605e-05, 4.1265e-01,\n",
       "         2.6061e-05, 1.8855e-04, 6.1151e-02, 1.1779e-02],\n",
       "        [2.8227e-01, 8.8010e-04, 1.6295e-01, 2.1274e-06, 2.2717e-01, 2.8893e-01,\n",
       "         8.0754e-03, 7.5340e-06, 2.9305e-02, 4.0347e-04],\n",
       "        [5.4002e-01, 2.0597e-05, 3.8867e-01, 1.7385e-02, 4.8305e-02, 3.4358e-03,\n",
       "         3.5605e-04, 1.5940e-03, 2.0971e-04, 4.1706e-06],\n",
       "        [2.7935e-04, 2.6047e-09, 6.2200e-04, 2.2493e-03, 2.4318e-01, 3.0849e-01,\n",
       "         2.9750e-01, 2.3631e-02, 1.2403e-01, 2.0124e-06],\n",
       "        [2.4428e-01, 3.0133e-05, 2.4867e-01, 2.2537e-04, 4.1040e-04, 2.5001e-01,\n",
       "         2.1224e-03, 3.2162e-03, 2.4970e-01, 1.3308e-03],\n",
       "        [2.8769e-01, 1.3261e-05, 1.6341e-02, 1.4746e-02, 3.5373e-04, 2.9202e-01,\n",
       "         2.9133e-01, 6.4111e-02, 1.5848e-02, 1.7539e-02],\n",
       "        [2.2111e-05, 8.8644e-07, 7.1448e-02, 2.3436e-04, 7.2954e-02, 4.5078e-01,\n",
       "         3.1793e-05, 2.1721e-05, 4.0170e-01, 2.8059e-03],\n",
       "        [2.2890e-02, 1.4740e-04, 2.0301e-01, 1.1304e-02, 1.9563e-01, 2.1240e-01,\n",
       "         1.4429e-01, 2.3936e-03, 2.0791e-01, 2.0638e-05],\n",
       "        [1.3650e-01, 2.2229e-04, 1.6197e-01, 2.8314e-04, 1.8571e-04, 3.3798e-01,\n",
       "         9.8130e-03, 8.1920e-04, 3.5130e-01, 9.2679e-04],\n",
       "        [6.0066e-02, 4.4211e-06, 2.1950e-02, 1.2458e-03, 2.7726e-01, 3.1438e-01,\n",
       "         8.4437e-03, 7.4505e-04, 3.1435e-01, 1.5512e-03],\n",
       "        [1.7576e-01, 3.1475e-02, 1.8823e-01, 1.0440e-03, 2.1573e-03, 3.0902e-01,\n",
       "         2.7292e-04, 5.6632e-03, 2.8637e-01, 6.7044e-07],\n",
       "        [1.5797e-01, 6.1328e-05, 2.0334e-01, 2.0323e-01, 1.4995e-03, 2.0281e-01,\n",
       "         1.4163e-07, 5.7716e-05, 2.0336e-01, 2.7677e-02],\n",
       "        [1.7535e-01, 1.0448e-04, 1.8390e-01, 1.7156e-01, 9.3057e-02, 1.8414e-01,\n",
       "         1.2315e-05, 6.5841e-03, 1.8529e-01, 1.6123e-06],\n",
       "        [5.6501e-05, 8.5980e-04, 8.1477e-04, 1.3406e-03, 1.7639e-01, 2.5882e-01,\n",
       "         2.3653e-01, 6.9400e-02, 2.5554e-01, 2.4788e-04],\n",
       "        [8.3798e-03, 4.2603e-02, 2.8529e-04, 3.7955e-02, 5.5980e-04, 4.0929e-01,\n",
       "         7.0650e-02, 1.4699e-01, 2.8329e-01, 2.0463e-06],\n",
       "        [2.3118e-01, 1.0300e-06, 2.2969e-01, 3.8954e-02, 2.1934e-01, 2.3112e-01,\n",
       "         9.4853e-03, 4.9350e-08, 3.5176e-02, 5.0434e-03],\n",
       "        [3.2661e-01, 4.2796e-06, 3.2787e-01, 1.2502e-06, 5.4284e-03, 3.2791e-01,\n",
       "         8.5667e-03, 2.8190e-05, 3.5753e-03, 2.9561e-09],\n",
       "        [1.7160e-06, 1.0497e-06, 2.4112e-02, 1.1617e-01, 1.9200e-01, 2.5441e-01,\n",
       "         1.1916e-06, 1.8234e-02, 2.5660e-01, 1.3848e-01],\n",
       "        [1.6559e-01, 6.4216e-03, 1.7070e-01, 5.1160e-04, 1.7062e-01, 1.7092e-01,\n",
       "         1.5323e-01, 2.0413e-07, 1.6200e-01, 2.1307e-07],\n",
       "        [1.7322e-01, 1.7305e-03, 6.3132e-02, 1.1379e-06, 2.4978e-05, 2.1506e-01,\n",
       "         1.1308e-01, 4.3390e-03, 2.1506e-01, 2.1436e-01],\n",
       "        [2.6881e-01, 5.0974e-05, 2.6155e-01, 4.3522e-04, 1.2731e-02, 2.0398e-01,\n",
       "         2.9248e-04, 1.1978e-03, 1.2624e-01, 1.2471e-01],\n",
       "        [2.8115e-02, 1.7404e-03, 2.4260e-01, 1.6304e-03, 2.4735e-05, 2.4271e-01,\n",
       "         2.4275e-01, 2.7113e-03, 2.3771e-01, 5.2326e-09],\n",
       "        [1.8487e-01, 2.2815e-05, 2.0208e-01, 4.0763e-03, 2.0298e-01, 2.0298e-01,\n",
       "         2.9653e-06, 1.9967e-05, 2.0297e-01, 1.0680e-05],\n",
       "        [3.0809e-01, 2.0477e-06, 3.6541e-03, 2.5923e-01, 6.0509e-04, 3.1464e-01,\n",
       "         1.1352e-05, 9.5434e-06, 1.1352e-01, 2.3708e-04],\n",
       "        [1.7552e-01, 1.0253e-02, 1.8962e-01, 2.0589e-01, 6.7732e-05, 2.0972e-01,\n",
       "         4.1182e-03, 9.4072e-04, 2.0383e-01, 4.9670e-05],\n",
       "        [3.7416e-01, 1.2765e-04, 8.6362e-03, 1.1744e-09, 1.8485e-03, 3.9736e-01,\n",
       "         1.9765e-02, 3.1348e-05, 1.9807e-01, 4.2708e-09],\n",
       "        [2.2484e-01, 1.3140e-01, 2.2705e-01, 6.4010e-04, 2.5562e-05, 1.8990e-01,\n",
       "         2.1872e-01, 2.0489e-07, 7.3038e-03, 1.2470e-04],\n",
       "        [3.0670e-01, 7.2779e-09, 2.9962e-01, 8.2983e-02, 2.5727e-04, 2.9656e-01,\n",
       "         2.1867e-07, 9.4599e-06, 1.3829e-02, 4.3864e-05],\n",
       "        [2.1588e-01, 3.0510e-07, 1.8157e-01, 1.2037e-01, 1.0828e-05, 2.3955e-01,\n",
       "         8.1202e-06, 1.4098e-04, 2.3356e-01, 8.9144e-03],\n",
       "        [2.6011e-01, 1.2699e-04, 2.0606e-01, 2.6174e-03, 1.4820e-03, 2.6011e-01,\n",
       "         5.0951e-05, 9.3324e-03, 2.6011e-01, 2.1545e-06],\n",
       "        [1.0750e-01, 8.0013e-06, 1.8588e-01, 9.6023e-03, 2.2620e-01, 2.3106e-01,\n",
       "         5.1752e-03, 3.8501e-03, 2.3064e-01, 8.8659e-05],\n",
       "        [4.5332e-03, 8.6070e-02, 2.0713e-01, 2.2050e-03, 1.0250e-04, 2.3517e-01,\n",
       "         3.8157e-05, 1.8803e-05, 2.3466e-01, 2.3007e-01],\n",
       "        [2.0438e-01, 9.2990e-02, 2.0520e-01, 9.3772e-02, 2.2268e-06, 2.0520e-01,\n",
       "         1.9831e-01, 1.4375e-04, 2.7257e-06, 9.5817e-09],\n",
       "        [2.8163e-01, 2.7553e-03, 2.4365e-01, 2.2101e-02, 3.8861e-02, 1.2406e-01,\n",
       "         2.6128e-04, 1.0903e-05, 2.8667e-01, 1.8946e-08],\n",
       "        [1.5579e-01, 2.7496e-05, 1.4700e-01, 1.0350e-07, 5.5447e-07, 1.8552e-01,\n",
       "         1.8445e-01, 1.4154e-01, 1.8567e-01, 7.6934e-08],\n",
       "        [2.4526e-01, 1.0890e-02, 1.3124e-03, 9.1637e-02, 1.9175e-01, 2.5134e-01,\n",
       "         1.6908e-03, 4.7617e-06, 1.5459e-01, 5.1533e-02],\n",
       "        [2.1083e-01, 2.9458e-04, 2.0400e-01, 5.2002e-09, 9.1029e-04, 2.2716e-01,\n",
       "         2.1052e-01, 5.9369e-05, 1.4621e-01, 2.0465e-05],\n",
       "        [1.4514e-01, 4.4268e-06, 2.2511e-01, 2.2383e-04, 7.3650e-03, 2.5867e-01,\n",
       "         2.4120e-04, 1.0507e-01, 2.5817e-01, 3.5559e-06],\n",
       "        [1.6149e-01, 7.9864e-03, 2.3708e-01, 4.0490e-06, 3.1181e-03, 2.3668e-01,\n",
       "         1.5283e-01, 1.0330e-04, 2.0068e-01, 3.5105e-05],\n",
       "        [1.8501e-01, 7.5041e-05, 8.8998e-02, 1.8147e-01, 1.7132e-01, 1.8279e-01,\n",
       "         3.8085e-06, 2.8736e-02, 1.6158e-01, 2.0569e-05],\n",
       "        [2.2981e-02, 1.5190e-03, 9.1707e-03, 1.2028e-06, 4.6297e-04, 4.2944e-01,\n",
       "         5.6596e-02, 4.0585e-01, 6.6439e-02, 7.5343e-03],\n",
       "        [1.2585e-01, 5.8350e-04, 2.6182e-01, 1.6912e-02, 1.9888e-03, 2.6481e-01,\n",
       "         4.8595e-02, 1.4393e-02, 2.6482e-01, 2.3219e-04],\n",
       "        [2.5001e-01, 9.0230e-03, 2.4938e-01, 5.0397e-04, 6.9032e-04, 2.5017e-01,\n",
       "         2.4020e-01, 5.7257e-06, 2.0106e-06, 5.3331e-06],\n",
       "        [2.0658e-01, 2.1246e-04, 2.1194e-01, 7.8367e-03, 1.3182e-01, 2.1194e-01,\n",
       "         1.3097e-03, 6.3585e-02, 1.6477e-01, 9.9073e-06],\n",
       "        [1.9201e-01, 4.3535e-02, 1.9208e-01, 6.5335e-07, 1.8712e-01, 1.9153e-01,\n",
       "         1.0952e-03, 1.1751e-04, 1.9208e-01, 4.3594e-04]])"
      ]
     },
     "execution_count": 161,
     "metadata": {},
     "output_type": "execute_result"
    }
   ],
   "source": [
    "def funct(x):\n",
    "    softmax = torch.randn_like(x)\n",
    "    rows, columns = x.shape \n",
    "    for i in range(rows):\n",
    "        current_row_sum = sum(x[i])\n",
    "        for j in range(columns):\n",
    "            softmax[i][j] = x[i][j]/current_row_sum \n",
    "    return softmax\n",
    "    \n",
    "funct(out)"
   ]
  },
  {
   "cell_type": "code",
   "execution_count": 164,
   "metadata": {},
   "outputs": [
    {
     "name": "stdout",
     "output_type": "stream",
     "text": [
      "torch.Size([64, 10])\n",
      "tensor(1.)\n"
     ]
    }
   ],
   "source": [
    "\n",
    "def softmax(x):\n",
    "    '''\n",
    "    softmax_1 = torch.randn_like(x)\n",
    "    rows, columns = x.shape \n",
    "    for i in range(rows):\n",
    "        current_row_sum = sum(x[i])\n",
    "        for j in range(columns):\n",
    "            softmax_1[i][j] = x[i][j]/current_row_sum \n",
    "    return softmax_1\n",
    "    '''\n",
    "    return torch.exp(x)/torch.sum(torch.exp(x), dim=1).view(-1, 1)\n",
    "\n",
    "# Here, out should be the output of the network in the previous excercise with shape (64,10)\n",
    "probabilities = softmax(out)\n",
    "\n",
    "# Does it have the right shape? Should be (64, 10)\n",
    "print(probabilities.shape)\n",
    "# Does it sum to 1?\n",
    "#print(probabilities.sum(dim=1))\n",
    "print(sum(probabilities[63]))"
   ]
  },
  {
   "cell_type": "markdown",
   "metadata": {},
   "source": [
    "## Building networks with PyTorch\n",
    "\n",
    "PyTorch provides a module `nn` that makes building networks much simpler. Here I'll show you how to build the same one as above with 784 inputs, 256 hidden units, 10 output units and a softmax output."
   ]
  },
  {
   "cell_type": "code",
   "execution_count": 167,
   "metadata": {},
   "outputs": [],
   "source": [
    "from torch import nn"
   ]
  },
  {
   "cell_type": "code",
   "execution_count": 168,
   "metadata": {},
   "outputs": [],
   "source": [
    "class Network(nn.Module):\n",
    "    def __init__(self):\n",
    "        super().__init__()\n",
    "        \n",
    "        # Inputs to hidden layer linear transformation\n",
    "        self.hidden = nn.Linear(784, 256)\n",
    "        # Output layer, 10 units - one for each digit\n",
    "        self.output = nn.Linear(256, 10)\n",
    "        \n",
    "        # Define sigmoid activation and softmax output \n",
    "        self.sigmoid = nn.Sigmoid()\n",
    "        self.softmax = nn.Softmax(dim=1)\n",
    "        \n",
    "    def forward(self, x):\n",
    "        # Pass the input tensor through each of our operations\n",
    "        x = self.hidden(x)\n",
    "        x = self.sigmoid(x)\n",
    "        x = self.output(x)\n",
    "        x = self.softmax(x)\n",
    "        \n",
    "        return x"
   ]
  },
  {
   "cell_type": "markdown",
   "metadata": {},
   "source": [
    "Let's go through this bit by bit.\n",
    "\n",
    "```python\n",
    "class Network(nn.Module):\n",
    "```\n",
    "\n",
    "Here we're inheriting from `nn.Module`. Combined with `super().__init__()` this creates a class that tracks the architecture and provides a lot of useful methods and attributes. It is mandatory to inherit from `nn.Module` when you're creating a class for your network. The name of the class itself can be anything.\n",
    "\n",
    "```python\n",
    "self.hidden = nn.Linear(784, 256)\n",
    "```\n",
    "\n",
    "This line creates a module for a linear transformation, $x\\mathbf{W} + b$, with 784 inputs and 256 outputs and assigns it to `self.hidden`. The module automatically creates the weight and bias tensors which we'll use in the `forward` method. You can access the weight and bias tensors once the network (`net`) is created with `net.hidden.weight` and `net.hidden.bias`.\n",
    "\n",
    "```python\n",
    "self.output = nn.Linear(256, 10)\n",
    "```\n",
    "\n",
    "Similarly, this creates another linear transformation with 256 inputs and 10 outputs.\n",
    "\n",
    "```python\n",
    "self.sigmoid = nn.Sigmoid()\n",
    "self.softmax = nn.Softmax(dim=1)\n",
    "```\n",
    "\n",
    "Here I defined operations for the sigmoid activation and softmax output. Setting `dim=1` in `nn.Softmax(dim=1)` calculates softmax across the columns.\n",
    "\n",
    "```python\n",
    "def forward(self, x):\n",
    "```\n",
    "\n",
    "PyTorch networks created with `nn.Module` must have a `forward` method defined. It takes in a tensor `x` and passes it through the operations you defined in the `__init__` method.\n",
    "\n",
    "```python\n",
    "x = self.hidden(x)\n",
    "x = self.sigmoid(x)\n",
    "x = self.output(x)\n",
    "x = self.softmax(x)\n",
    "```\n",
    "\n",
    "Here the input tensor `x` is passed through each operation and reassigned to `x`. We can see that the input tensor goes through the hidden layer, then a sigmoid function, then the output layer, and finally the softmax function. It doesn't matter what you name the variables here, as long as the inputs and outputs of the operations match the network architecture you want to build. The order in which you define things in the `__init__` method doesn't matter, but you'll need to sequence the operations correctly in the `forward` method.\n",
    "\n",
    "Now we can create a `Network` object."
   ]
  },
  {
   "cell_type": "code",
   "execution_count": 177,
   "metadata": {},
   "outputs": [
    {
     "data": {
      "text/plain": [
       "Nueral_Net(\n",
       "  (hidden): Linear(in_features=784, out_features=256, bias=True)\n",
       "  (output): Linear(in_features=256, out_features=10, bias=True)\n",
       "  (sigmoid): Sigmoid()\n",
       "  (softmax): Softmax(dim=1)\n",
       ")"
      ]
     },
     "execution_count": 177,
     "metadata": {},
     "output_type": "execute_result"
    }
   ],
   "source": [
    "class Nueral_Net(nn.Module):\n",
    "    def __init__(self):\n",
    "        super().__init__()\n",
    "        self.hidden = nn.Linear(784, 256)\n",
    "        self.output = nn.Linear(256, 10)\n",
    "        \n",
    "        self.sigmoid = nn.Sigmoid()\n",
    "        self.softmax = nn.Softmax(dim = 1)\n",
    "        \n",
    "    def forward(self):\n",
    "        x = self.hidden(x)\n",
    "        x = self.sigmoid(x)\n",
    "        x = self.output(x)\n",
    "        x = self.softmax(x)\n",
    "        return x\n",
    "model2 = Nueral_Net()\n",
    "model2"
   ]
  },
  {
   "cell_type": "code",
   "execution_count": 169,
   "metadata": {},
   "outputs": [
    {
     "data": {
      "text/plain": [
       "Network(\n",
       "  (hidden): Linear(in_features=784, out_features=256, bias=True)\n",
       "  (output): Linear(in_features=256, out_features=10, bias=True)\n",
       "  (sigmoid): Sigmoid()\n",
       "  (softmax): Softmax(dim=1)\n",
       ")"
      ]
     },
     "execution_count": 169,
     "metadata": {},
     "output_type": "execute_result"
    }
   ],
   "source": [
    "# Create the network and look at it's text representation\n",
    "model = Network()\n",
    "model"
   ]
  },
  {
   "cell_type": "markdown",
   "metadata": {},
   "source": [
    "You can define the network somewhat more concisely and clearly using the `torch.nn.functional` module. This is the most common way you'll see networks defined as many operations are simple element-wise functions. We normally import this module as `F`, `import torch.nn.functional as F`."
   ]
  },
  {
   "cell_type": "code",
   "execution_count": null,
   "metadata": {
    "collapsed": true
   },
   "outputs": [],
   "source": [
    "import torch.nn.functional as F\n",
    "\n",
    "class Network(nn.Module):\n",
    "    def __init__(self):\n",
    "        super().__init__()\n",
    "        # Inputs to hidden layer linear transformation\n",
    "        self.hidden = nn.Linear(784, 256)\n",
    "        # Output layer, 10 units - one for each digit\n",
    "        self.output = nn.Linear(256, 10)\n",
    "        \n",
    "    def forward(self, x):\n",
    "        # Hidden layer with sigmoid activation\n",
    "        x = F.sigmoid(self.hidden(x))\n",
    "        # Output layer with softmax activation\n",
    "        x = F.softmax(self.output(x), dim=1)\n",
    "        \n",
    "        return x"
   ]
  },
  {
   "cell_type": "markdown",
   "metadata": {},
   "source": [
    "### Activation functions\n",
    "\n",
    "So far we've only been looking at the sigmoid activation function, but in general any function can be used as an activation function. The only requirement is that for a network to approximate a non-linear function, the activation functions must be non-linear. Here are a few more examples of common activation functions: Tanh (hyperbolic tangent), and ReLU (rectified linear unit).\n",
    "\n",
    "<img src=\"assets/activation.png\" width=700px>\n",
    "\n",
    "In practice, the ReLU function is used almost exclusively as the activation function for hidden layers."
   ]
  },
  {
   "cell_type": "markdown",
   "metadata": {},
   "source": [
    "### Your Turn to Build a Network\n",
    "\n",
    "<img src=\"assets/mlp_mnist.png\" width=600px>\n",
    "\n",
    "> **Exercise:** Create a network with 784 input units, a hidden layer with 128 units and a ReLU activation, then a hidden layer with 64 units and a ReLU activation, and finally an output layer with a softmax activation as shown above. You can use a ReLU activation with the `nn.ReLU` module or `F.relu` function.\n",
    "\n",
    "It's good practice to name your layers by their type of network, for instance 'fc' to represent a fully-connected layer. As you code your solution, use `fc1`, `fc2`, and `fc3` as your layer names."
   ]
  },
  {
   "cell_type": "code",
   "execution_count": 196,
   "metadata": {
    "scrolled": true
   },
   "outputs": [
    {
     "data": {
      "text/plain": [
       "fc(\n",
       "  (fc1): Linear(in_features=784, out_features=128, bias=True)\n",
       "  (fc2): Linear(in_features=128, out_features=64, bias=True)\n",
       "  (fc3): Linear(in_features=64, out_features=10, bias=True)\n",
       "  (relu): Sigmoid()\n",
       "  (softmax): Softmax(dim=1)\n",
       ")"
      ]
     },
     "execution_count": 196,
     "metadata": {},
     "output_type": "execute_result"
    }
   ],
   "source": [
    "## Your solution here\n",
    "from torch import nn\n",
    "class fc(nn.Module):\n",
    "    def __init__(self):\n",
    "        super().__init__()\n",
    "        self.fc1 = nn.Linear(784, 128)\n",
    "        self.fc2 = nn.Linear(128, 64)\n",
    "        self.fc3 = nn.Linear(64, 10)\n",
    "        \n",
    "        self.relu = nn.Sigmoid()\n",
    "        ()\n",
    "        self.softmax = nn.Softmax(dim = 1)\n",
    "        \n",
    "    def forward(self, x):\n",
    "        x = self.fc1(x)\n",
    "        x = self.relu(x)\n",
    "        x = self.fc2(x)\n",
    "        x = self.relu(x)\n",
    "        x = self.fc3(x)\n",
    "        x = self.softmax(x)\n",
    "        \n",
    "        return x\n",
    "    \n",
    "model = fc()\n",
    "model"
   ]
  },
  {
   "cell_type": "markdown",
   "metadata": {},
   "source": [
    "### Initializing weights and biases\n",
    "\n",
    "The weights and such are automatically initialized for you, but it's possible to customize how they are initialized. The weights and biases are tensors attached to the layer you defined, you can get them with `model.fc1.weight` for instance."
   ]
  },
  {
   "cell_type": "code",
   "execution_count": 190,
   "metadata": {},
   "outputs": [
    {
     "name": "stdout",
     "output_type": "stream",
     "text": [
      "Parameter containing:\n",
      "tensor([[-0.0349, -0.0298,  0.0181,  ..., -0.0065,  0.0242, -0.0312],\n",
      "        [-0.0082,  0.0290, -0.0195,  ..., -0.0193, -0.0276,  0.0177],\n",
      "        [-0.0348,  0.0321,  0.0259,  ..., -0.0091, -0.0140,  0.0119],\n",
      "        ...,\n",
      "        [-0.0162, -0.0155, -0.0328,  ...,  0.0102, -0.0348, -0.0230],\n",
      "        [ 0.0288,  0.0335, -0.0004,  ...,  0.0242, -0.0208, -0.0291],\n",
      "        [ 0.0240, -0.0245,  0.0324,  ..., -0.0329, -0.0275, -0.0154]],\n",
      "       requires_grad=True)\n",
      "Parameter containing:\n",
      "tensor([-0.0195,  0.0335,  0.0215, -0.0298, -0.0169, -0.0042,  0.0260,  0.0237,\n",
      "         0.0275,  0.0224, -0.0162, -0.0245, -0.0071,  0.0064,  0.0103, -0.0019,\n",
      "        -0.0056, -0.0145, -0.0080,  0.0004,  0.0040, -0.0201, -0.0158, -0.0283,\n",
      "         0.0269,  0.0207,  0.0277,  0.0337,  0.0065, -0.0090,  0.0041,  0.0274,\n",
      "        -0.0078, -0.0166,  0.0092,  0.0145,  0.0343, -0.0191,  0.0004, -0.0092,\n",
      "        -0.0287,  0.0269,  0.0017, -0.0153,  0.0244,  0.0105,  0.0172,  0.0044,\n",
      "         0.0149, -0.0136,  0.0227, -0.0247,  0.0268, -0.0026, -0.0313, -0.0174,\n",
      "        -0.0035, -0.0260,  0.0195, -0.0291,  0.0169, -0.0328, -0.0085, -0.0027,\n",
      "         0.0287,  0.0188,  0.0043, -0.0009, -0.0154,  0.0302, -0.0175, -0.0282,\n",
      "         0.0125, -0.0159, -0.0297,  0.0353, -0.0051,  0.0154,  0.0118, -0.0101,\n",
      "        -0.0153,  0.0254,  0.0238, -0.0042,  0.0165, -0.0141,  0.0323, -0.0048,\n",
      "        -0.0284,  0.0216, -0.0096,  0.0093,  0.0284, -0.0135, -0.0137,  0.0083,\n",
      "        -0.0279, -0.0178,  0.0179,  0.0086, -0.0203, -0.0190,  0.0097,  0.0049,\n",
      "         0.0072, -0.0237, -0.0294,  0.0027,  0.0010, -0.0314, -0.0026, -0.0155,\n",
      "         0.0065,  0.0238, -0.0301,  0.0317, -0.0079, -0.0303,  0.0116, -0.0050,\n",
      "        -0.0344, -0.0317,  0.0176,  0.0233, -0.0137, -0.0001, -0.0325, -0.0022],\n",
      "       requires_grad=True)\n"
     ]
    }
   ],
   "source": [
    "print(model.fc1.weight)\n",
    "print(model.fc1.bias)"
   ]
  },
  {
   "cell_type": "markdown",
   "metadata": {},
   "source": [
    "For custom initialization, we want to modify these tensors in place. These are actually autograd *Variables*, so we need to get back the actual tensors with `model.fc1.weight.data`. Once we have the tensors, we can fill them with zeros (for biases) or random normal values."
   ]
  },
  {
   "cell_type": "code",
   "execution_count": 191,
   "metadata": {},
   "outputs": [
    {
     "data": {
      "text/plain": [
       "tensor([0., 0., 0., 0., 0., 0., 0., 0., 0., 0., 0., 0., 0., 0., 0., 0., 0., 0., 0., 0., 0., 0., 0., 0.,\n",
       "        0., 0., 0., 0., 0., 0., 0., 0., 0., 0., 0., 0., 0., 0., 0., 0., 0., 0., 0., 0., 0., 0., 0., 0.,\n",
       "        0., 0., 0., 0., 0., 0., 0., 0., 0., 0., 0., 0., 0., 0., 0., 0., 0., 0., 0., 0., 0., 0., 0., 0.,\n",
       "        0., 0., 0., 0., 0., 0., 0., 0., 0., 0., 0., 0., 0., 0., 0., 0., 0., 0., 0., 0., 0., 0., 0., 0.,\n",
       "        0., 0., 0., 0., 0., 0., 0., 0., 0., 0., 0., 0., 0., 0., 0., 0., 0., 0., 0., 0., 0., 0., 0., 0.,\n",
       "        0., 0., 0., 0., 0., 0., 0., 0.])"
      ]
     },
     "execution_count": 191,
     "metadata": {},
     "output_type": "execute_result"
    }
   ],
   "source": [
    "# Set biases to all zeros\n",
    "model.fc1.bias.data.fill_(0)"
   ]
  },
  {
   "cell_type": "code",
   "execution_count": 192,
   "metadata": {},
   "outputs": [
    {
     "data": {
      "text/plain": [
       "tensor([[ 0.0162,  0.0077, -0.0039,  ..., -0.0016, -0.0025, -0.0045],\n",
       "        [-0.0044,  0.0258, -0.0025,  ..., -0.0049,  0.0098,  0.0034],\n",
       "        [ 0.0110, -0.0052, -0.0078,  ...,  0.0001, -0.0200,  0.0026],\n",
       "        ...,\n",
       "        [-0.0006,  0.0063,  0.0002,  ..., -0.0220,  0.0070, -0.0229],\n",
       "        [-0.0222,  0.0015, -0.0119,  ..., -0.0055,  0.0015, -0.0035],\n",
       "        [-0.0022, -0.0074,  0.0005,  ...,  0.0237,  0.0206,  0.0017]])"
      ]
     },
     "execution_count": 192,
     "metadata": {},
     "output_type": "execute_result"
    }
   ],
   "source": [
    "# sample from random normal with standard dev = 0.01\n",
    "model.fc1.weight.data.normal_(std=0.01)"
   ]
  },
  {
   "cell_type": "markdown",
   "metadata": {},
   "source": [
    "### Forward pass\n",
    "\n",
    "Now that we have a network, let's see what happens when we pass in an image."
   ]
  },
  {
   "cell_type": "code",
   "execution_count": 242,
   "metadata": {},
   "outputs": [
    {
     "data": {
      "image/png": "[encoded data removed]",
      "text/plain": [
       "<Figure size 432x648 with 2 Axes>"
      ]
     },
     "metadata": {
      "image/png": {
       "height": 235,
       "width": 424
      },
      "needs_background": "light"
     },
     "output_type": "display_data"
    }
   ],
   "source": [
    "# Grab some data \n",
    "torch.manual_seed(2)\n",
    "dataiter = iter(trainloader)\n",
    "images, labels = dataiter.next()\n",
    "\n",
    "# Resize images into a 1D vector, new shape is (batch size, color channels, image pixels) \n",
    "images.resize_(64, 1, 784)\n",
    "# or images.resize_(images.shape[0], 1, 784) to automatically get batch size\n",
    "\n",
    "# Forward pass through the network\n",
    "img_idx = 0\n",
    "ps = model.forward(images[img_idx,:])\n",
    "\n",
    "img = images[img_idx]\n",
    "helper.view_classify(img.view(1, 28, 28), ps)"
   ]
  },
  {
   "cell_type": "markdown",
   "metadata": {},
   "source": [
    "As you can see above, our network has basically no idea what this digit is. It's because we haven't trained it yet, all the weights are random!\n",
    "\n",
    "### Using `nn.Sequential`\n",
    "\n",
    "PyTorch provides a convenient way to build networks like this where a tensor is passed sequentially through operations, `nn.Sequential` ([documentation](https://pytorch.org/docs/master/nn.html#torch.nn.Sequential)). Using this to build the equivalent network:"
   ]
  },
  {
   "cell_type": "code",
   "execution_count": 267,
   "metadata": {},
   "outputs": [
    {
     "name": "stdout",
     "output_type": "stream",
     "text": [
      "Sequential(\n",
      "  (0): Linear(in_features=784, out_features=128, bias=True)\n",
      "  (1): ReLU()\n",
      "  (2): Linear(in_features=128, out_features=64, bias=True)\n",
      "  (3): ReLU()\n",
      "  (4): Linear(in_features=64, out_features=10, bias=True)\n",
      "  (5): Softmax(dim=1)\n",
      ")\n"
     ]
    },
    {
     "data": {
      "image/png": "[encoded data removed]",
      "text/plain": [
       "<Figure size 432x648 with 2 Axes>"
      ]
     },
     "metadata": {
      "image/png": {
       "height": 235,
       "width": 424
      },
      "needs_background": "light"
     },
     "output_type": "display_data"
    }
   ],
   "source": [
    "# Hyperparameters for our network\n",
    "input_size = 784\n",
    "hidden_sizes = [128, 64]\n",
    "output_size = 10\n",
    "\n",
    "# Build a feed-forward network\n",
    "model = nn.Sequential(nn.Linear(input_size, hidden_sizes[0]),\n",
    "                      nn.ReLU(),\n",
    "                      nn.Linear(hidden_sizes[0], hidden_sizes[1]),\n",
    "                      nn.ReLU(),\n",
    "                      nn.Linear(hidden_sizes[1], output_size),\n",
    "                      nn.Softmax(dim=1))\n",
    "print(model)\n",
    "\n",
    "# Forward pass through the network and display output\n",
    "images, labels = next(iter(trainloader))\n",
    "images.resize_(images.shape[0], 1, 784)\n",
    "ps = model.forward(images[0,:])\n",
    "helper.view_classify(images[0].view(1, 28, 28), ps)"
   ]
  },
  {
   "cell_type": "markdown",
   "metadata": {},
   "source": [
    "Here our model is the same as before: 784 input units, a hidden layer with 128 units, ReLU activation, 64 unit hidden layer, another ReLU, then the output layer with 10 units, and the softmax output.\n",
    "\n",
    "The operations are available by passing in the appropriate index. For example, if you want to get first Linear operation and look at the weights, you'd use `model[0]`."
   ]
  },
  {
   "cell_type": "code",
   "execution_count": 268,
   "metadata": {},
   "outputs": [
    {
     "name": "stdout",
     "output_type": "stream",
     "text": [
      "Linear(in_features=784, out_features=128, bias=True)\n"
     ]
    },
    {
     "data": {
      "text/plain": [
       "Parameter containing:\n",
       "tensor([[ 2.5849e-03,  2.2390e-02, -3.3991e-02,  ..., -4.2576e-03,\n",
       "          2.3049e-02,  2.8958e-02],\n",
       "        [-1.8948e-02,  6.6388e-03, -6.7696e-03,  ..., -3.1677e-02,\n",
       "         -4.5566e-03, -2.9789e-02],\n",
       "        [-2.1515e-02,  2.3892e-02,  1.8465e-02,  ..., -3.4924e-02,\n",
       "          2.4341e-02, -2.4986e-05],\n",
       "        ...,\n",
       "        [-1.0267e-03, -2.4516e-02, -2.7212e-02,  ..., -2.1356e-02,\n",
       "         -9.4194e-03,  3.0039e-02],\n",
       "        [-3.3175e-02,  2.3480e-02, -2.2594e-02,  ...,  2.0487e-02,\n",
       "          3.4114e-02, -1.8375e-03],\n",
       "        [-2.9248e-02,  3.2893e-04,  1.1161e-02,  ...,  2.0486e-02,\n",
       "          3.0174e-02,  3.7513e-03]], requires_grad=True)"
      ]
     },
     "execution_count": 268,
     "metadata": {},
     "output_type": "execute_result"
    }
   ],
   "source": [
    "print(model[0])\n",
    "model[0].weight"
   ]
  },
  {
   "cell_type": "markdown",
   "metadata": {},
   "source": [
    "You can also pass in an `OrderedDict` to name the individual layers and operations, instead of using incremental integers. Note that dictionary keys must be unique, so _each operation must have a different name_."
   ]
  },
  {
   "cell_type": "code",
   "execution_count": 269,
   "metadata": {},
   "outputs": [
    {
     "data": {
      "text/plain": [
       "Sequential(\n",
       "  (fc1): Linear(in_features=784, out_features=128, bias=True)\n",
       "  (relu1): ReLU()\n",
       "  (fc2): Linear(in_features=128, out_features=64, bias=True)\n",
       "  (relu2): ReLU()\n",
       "  (output): Linear(in_features=64, out_features=10, bias=True)\n",
       "  (softmax): Softmax(dim=1)\n",
       ")"
      ]
     },
     "execution_count": 269,
     "metadata": {},
     "output_type": "execute_result"
    }
   ],
   "source": [
    "from collections import OrderedDict\n",
    "model = nn.Sequential(OrderedDict([\n",
    "                      ('fc1', nn.Linear(input_size, hidden_sizes[0])),\n",
    "                      ('relu1', nn.ReLU()),\n",
    "                      ('fc2', nn.Linear(hidden_sizes[0], hidden_sizes[1])),\n",
    "                      ('relu2', nn.ReLU()),\n",
    "                      ('output', nn.Linear(hidden_sizes[1], output_size)),\n",
    "                      ('softmax', nn.Softmax(dim=1))]))\n",
    "model"
   ]
  },
  {
   "cell_type": "markdown",
   "metadata": {},
   "source": [
    "Now you can access layers either by integer or the name"
   ]
  },
  {
   "cell_type": "code",
   "execution_count": 270,
   "metadata": {},
   "outputs": [
    {
     "name": "stdout",
     "output_type": "stream",
     "text": [
      "Linear(in_features=784, out_features=128, bias=True)\n",
      "Linear(in_features=784, out_features=128, bias=True)\n"
     ]
    }
   ],
   "source": [
    "print(model[0])\n",
    "print(model.fc1)"
   ]
  },
  {
   "cell_type": "markdown",
   "metadata": {},
   "source": [
    "In the next notebook, we'll see how we can train a neural network to accuractly predict the numbers appearing in the MNIST images."
   ]
  },
  {
   "cell_type": "code",
   "execution_count": null,
   "metadata": {},
   "outputs": [],
   "source": []
  }
 ],
 "metadata": {
  "kernelspec": {
   "display_name": "Python 3",
   "language": "python",
   "name": "python3"
  },
  "language_info": {
   "codemirror_mode": {
    "name": "ipython",
    "version": 3
   },
   "file_extension": ".py",
   "mimetype": "text/x-python",
   "name": "python",
   "nbconvert_exporter": "python",
   "pygments_lexer": "ipython3",
   "version": "3.7.6"
  }
 },
 "nbformat": 4,
 "nbformat_minor": 2
}
